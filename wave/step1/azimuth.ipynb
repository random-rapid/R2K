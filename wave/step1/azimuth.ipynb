{
 "cells": [
  {
   "cell_type": "code",
   "execution_count": 1,
   "metadata": {},
   "outputs": [],
   "source": [
    "import azimuth as az\n",
    "import get_mag as gm\n",
    "import matplotlib.pyplot as plt\n",
    "from PIL import Image"
   ]
  },
  {
   "cell_type": "code",
   "execution_count": 20,
   "metadata": {},
   "outputs": [
    {
     "name": "stderr",
     "output_type": "stream",
     "text": [
      "c:\\Users\\rdaon\\pyv\\lib\\site-packages\\numpy\\core\\fromnumeric.py:3474: RuntimeWarning: Mean of empty slice.\n",
      "  return _methods._mean(a, axis=axis, dtype=dtype,\n",
      "c:\\Users\\rdaon\\pyv\\lib\\site-packages\\numpy\\core\\_methods.py:189: RuntimeWarning: invalid value encountered in double_scalars\n",
      "  ret = ret.dtype.type(ret / rcount)\n"
     ]
    }
   ],
   "source": [
    "# path = r\".\\test4az.png\"\n",
    "# path = r\".\\sin2d30_30.png\"\n",
    "# path = r\".\\sin2d10.png\"\n",
    "# path = r\".\\sin2d1.png\"\n",
    "# path = r'.\\yokosima.png'\n",
    "path = r\".\\uzu.png\"\n",
    "\n",
    "img = gm.img2gray(path)\n",
    "# img, retval = gm.thresh(path)\n",
    "\n",
    "pil_2chi = Image.fromarray(img)\n",
    "\n",
    "mag = gm.fft(img)\n",
    "\n",
    "# 動径方向分布の表示 (Radial Distribution Function)\n",
    "rdf = az.average_radius(mag, 1)             # average_radiusに渡す\n",
    "\n",
    "x = [i for i in range(len(rdf))]"
   ]
  },
  {
   "cell_type": "code",
   "execution_count": null,
   "metadata": {},
   "outputs": [],
   "source": [
    "pil_2chi"
   ]
  },
  {
   "cell_type": "code",
   "execution_count": null,
   "metadata": {},
   "outputs": [],
   "source": [
    "plt.figure(dpi=1000)\n",
    "plt.imshow(mag)\n",
    "plt.show()"
   ]
  },
  {
   "cell_type": "code",
   "execution_count": null,
   "metadata": {},
   "outputs": [],
   "source": [
    "plt.figure(figsize=(16,12))\n",
    "plt.plot(x, rdf)\n",
    "plt.show()"
   ]
  },
  {
   "cell_type": "code",
   "execution_count": null,
   "metadata": {},
   "outputs": [],
   "source": [
    "print(x)"
   ]
  }
 ],
 "metadata": {
  "kernelspec": {
   "display_name": "Python 3.10.4 ('pyv': venv)",
   "language": "python",
   "name": "python3"
  },
  "language_info": {
   "codemirror_mode": {
    "name": "ipython",
    "version": 3
   },
   "file_extension": ".py",
   "mimetype": "text/x-python",
   "name": "python",
   "nbconvert_exporter": "python",
   "pygments_lexer": "ipython3",
   "version": "3.10.4"
  },
  "orig_nbformat": 4,
  "vscode": {
   "interpreter": {
    "hash": "356897c9f244d02680cd17c83ade4c251f7c896a5f00e864d29a20d04ff5b939"
   }
  }
 },
 "nbformat": 4,
 "nbformat_minor": 2
}
