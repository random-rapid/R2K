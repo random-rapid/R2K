{
 "cells": [
  {
   "cell_type": "code",
   "execution_count": 62,
   "metadata": {},
   "outputs": [],
   "source": [
    "import numpy as np"
   ]
  },
  {
   "cell_type": "code",
   "execution_count": 63,
   "metadata": {},
   "outputs": [],
   "source": [
    "data = np.loadtxt(\"wine.txt\",delimiter=\"\\t\", skiprows=1, usecols=(11,8,2,14))\n",
    "data_t = data.transpose()"
   ]
  },
  {
   "cell_type": "code",
   "execution_count": 64,
   "metadata": {},
   "outputs": [],
   "source": [
    "ml = list()\n",
    "for i in range(len(data_t)):\n",
    "    m = 0\n",
    "    for j in range(len(data_t[i])):\n",
    "        m += data_t[i][j]\n",
    "    ml.append(m / len(data_t[i]))\n",
    "# mean_list = [np.mean(data_t[i]) for i in range(len(data_t))]"
   ]
  },
  {
   "cell_type": "code",
   "execution_count": 65,
   "metadata": {},
   "outputs": [],
   "source": [
    "sdl = list()\n",
    "for i in range(len(data_t)):\n",
    "    sd = 0\n",
    "    for j in range(len(data_t[i])):\n",
    "        sd += (data_t[i][j] - ml[i]) ** 2\n",
    "    sdl.append((sd / len(data_t[i])) ** (1/2))\n",
    "#standard_deviation_list = [np.std(data_t[i]) for i in range(len(data_t))]"
   ]
  },
  {
   "cell_type": "code",
   "execution_count": 66,
   "metadata": {},
   "outputs": [],
   "source": [
    "dfs = [(data_t[i] - ml[i]) / sdl[i] for i in range(len(data_t))]"
   ]
  },
  {
   "cell_type": "code",
   "execution_count": 67,
   "metadata": {},
   "outputs": [],
   "source": [
    "cvl = list()\n",
    "for i in range(len(dfs)):\n",
    "    cvl_p = list()\n",
    "    for ip in range(len(dfs)):\n",
    "        cv = 0\n",
    "        for j in range(len(dfs[i])):\n",
    "            cv += dfs[i][j] * dfs[ip][j]\n",
    "        cvl_p.append(round(cv / len(dfs[i]), 8))\n",
    "    cvl.append(cvl_p)\n",
    "#covariance = np.cov(dfs, bias=True)"
   ]
  },
  {
   "cell_type": "code",
   "execution_count": 69,
   "metadata": {},
   "outputs": [],
   "source": [
    "dfc = np.array(cvl).transpose()"
   ]
  },
  {
   "cell_type": "code",
   "execution_count": 73,
   "metadata": {},
   "outputs": [],
   "source": [
    "# 固有値と固有ベクトル\n",
    "eig_val, eig_vec =np.linalg.eig(cvl)"
   ]
  },
  {
   "cell_type": "code",
   "execution_count": 74,
   "metadata": {},
   "outputs": [
    {
     "data": {
      "text/plain": [
       "array([2.13412213, 1.23808177, 0.33914837, 0.28864774])"
      ]
     },
     "execution_count": 74,
     "metadata": {},
     "output_type": "execute_result"
    }
   ],
   "source": [
    "eig_val"
   ]
  },
  {
   "cell_type": "code",
   "execution_count": 75,
   "metadata": {},
   "outputs": [
    {
     "data": {
      "text/plain": [
       "array([[-0.40941602,  0.63393186, -0.63654681,  0.15911342],\n",
       "       [-0.32554699, -0.72535703, -0.56689588, -0.21565111],\n",
       "       [-0.60560142,  0.16828625,  0.38871533, -0.67366687],\n",
       "       [-0.59970376, -0.20896726,  0.34976795,  0.68873105]])"
      ]
     },
     "execution_count": 75,
     "metadata": {},
     "output_type": "execute_result"
    }
   ],
   "source": [
    "eig_vec"
   ]
  },
  {
   "cell_type": "code",
   "execution_count": 79,
   "metadata": {},
   "outputs": [
    {
     "data": {
      "text/plain": [
       "array([-0.40941602, -0.32554699, -0.60560142, -0.59970376])"
      ]
     },
     "execution_count": 79,
     "metadata": {},
     "output_type": "execute_result"
    }
   ],
   "source": [
    "# 相関行列の固有ベクトルの第1列を、主成分分析では「第1主成分(PC1)の固有ベクトル」と言います\n",
    "eig_vec_pc1 = eig_vec[:, 0]\n",
    "eig_vec_pc1"
   ]
  },
  {
   "cell_type": "code",
   "execution_count": 84,
   "metadata": {},
   "outputs": [
    {
     "data": {
      "text/plain": [
       "array([-1.96711828, -0.84675256, -1.46175988, -3.3874755 , -0.24159879,\n",
       "       -2.98436965, -2.27094307, -1.99493742, -2.27369861, -1.96136944,\n",
       "       -2.82416723, -1.9761737 , -1.98989217, -2.68185185, -3.51880515,\n",
       "       -2.23112285, -2.5554043 , -2.07316301, -3.93797184, -1.00016677,\n",
       "       -1.33338865, -0.01689935, -1.13612814, -0.3109214 , -0.47834401,\n",
       "       -0.14656727, -1.39901495, -1.10790099, -1.18003651, -1.34766226,\n",
       "       -2.08595016, -2.60589258, -0.97273167, -1.79308698, -1.05754468,\n",
       "       -1.0073638 , -0.594756  , -0.70869744, -0.53256047, -1.27499153,\n",
       "       -1.11222495, -0.93134552, -1.88881144, -0.12403612, -0.61475952,\n",
       "       -1.77595886, -1.98422744, -1.75679539, -1.91373859, -2.85680934,\n",
       "       -1.59162872, -2.01987484, -2.37108792, -2.24366605, -1.57590828,\n",
       "       -1.58745921, -1.88965548, -1.77474301, -2.41055267,  1.93245298,\n",
       "        1.25308629,  0.91662625,  0.0234987 ,  0.85377455,  1.83440752,\n",
       "        0.4815704 , -0.03308605,  1.00068573,  0.31291864,  1.28256823,\n",
       "        0.98199729,  0.0261749 ,  0.45417788, -0.42559707,  0.80391193,\n",
       "        1.98481044,  0.73666788,  1.99802998,  0.8479833 ,  1.03750049,\n",
       "        2.02163972,  0.31418328,  1.56494085,  0.59519537,  1.59810836,\n",
       "        1.27528596,  1.68268374,  1.93583209,  1.65639475,  1.65268773,\n",
       "        1.84213063,  1.82845777,  1.25511446,  1.84703376,  2.04513019,\n",
       "        0.39053732,  1.91617503,  1.36895247,  0.17413388,  1.35707689,\n",
       "        1.02451481,  1.33343254,  1.45762809,  2.1752219 ,  0.92087776,\n",
       "        1.7386379 ,  1.30733934,  1.10371361,  1.82861513,  1.30339109,\n",
       "        1.70780343,  1.62816281,  1.41781121,  2.14407538,  1.67680432,\n",
       "        2.63659356,  2.05499633,  1.71298042,  1.43681848,  1.89415349,\n",
       "        1.46434836,  0.45213243,  1.6581698 ,  0.89618573,  1.61929924,\n",
       "        1.60478572,  1.01273269,  1.73768883,  1.62782572,  1.56394867,\n",
       "        0.75280444,  0.70839191,  0.69282346,  0.78674049,  0.956332  ,\n",
       "        0.48470223,  1.33646358,  1.27234579,  0.34530661,  0.91137816,\n",
       "        0.91430978,  0.07177955,  0.66346236,  0.43099216,  0.20516635,\n",
       "        0.39292736,  0.55610356,  0.3222666 , -0.23443247, -0.24338562,\n",
       "       -0.37924087, -0.1308966 ,  0.41617584, -0.6096402 ,  0.54229673,\n",
       "       -0.13087065, -0.42614347,  0.19891632, -2.00745381, -0.99770403,\n",
       "        0.81606419, -0.05330958,  0.82520573,  0.56283956, -0.69099728,\n",
       "        0.1206884 , -0.87016409, -0.22041686, -0.68855942, -0.33561942,\n",
       "        1.47616204,  0.34036624, -1.08899478, -0.5215222 , -0.28363242,\n",
       "       -0.84269407, -0.61477566, -0.80663691])"
      ]
     },
     "execution_count": 84,
     "metadata": {},
     "output_type": "execute_result"
    }
   ],
   "source": [
    "# 主成分得点(PC1)\n",
    "pc1 = np.dot(np.array(dfs).transpose(), eig_vec_pc1)\n",
    "pc1"
   ]
  }
 ],
 "metadata": {
  "kernelspec": {
   "display_name": "Python 3.10.4 ('pyv': venv)",
   "language": "python",
   "name": "python3"
  },
  "language_info": {
   "codemirror_mode": {
    "name": "ipython",
    "version": 3
   },
   "file_extension": ".py",
   "mimetype": "text/x-python",
   "name": "python",
   "nbconvert_exporter": "python",
   "pygments_lexer": "ipython3",
   "version": "3.10.4"
  },
  "orig_nbformat": 4,
  "vscode": {
   "interpreter": {
    "hash": "356897c9f244d02680cd17c83ade4c251f7c896a5f00e864d29a20d04ff5b939"
   }
  }
 },
 "nbformat": 4,
 "nbformat_minor": 2
}
